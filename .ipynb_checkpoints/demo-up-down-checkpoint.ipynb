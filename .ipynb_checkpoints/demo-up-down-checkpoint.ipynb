{
 "cells": [
  {
   "cell_type": "code",
   "execution_count": 1,
   "metadata": {},
   "outputs": [],
   "source": [
    "from ete3 import Tree, TreeStyle, Tree, TextFace, CircleFace, NodeStyle, add_face_to_node\n",
    "%load_ext autoreload\n",
    "%autoreload 2"
   ]
  },
  {
   "cell_type": "code",
   "execution_count": 47,
   "metadata": {
    "collapsed": true
   },
   "outputs": [],
   "source": [
    "stack = []"
   ]
  },
  {
   "cell_type": "markdown",
   "metadata": {},
   "source": [
    "## Init"
   ]
  },
  {
   "cell_type": "code",
   "execution_count": 50,
   "metadata": {
    "collapsed": true
   },
   "outputs": [],
   "source": [
    "def init():\n",
    "    stack = []"
   ]
  },
  {
   "cell_type": "markdown",
   "metadata": {},
   "source": [
    "## Grow Phase"
   ]
  },
  {
   "cell_type": "code",
   "execution_count": 48,
   "metadata": {
    "collapsed": true
   },
   "outputs": [],
   "source": [
    "def grow(root, alphabet, verbose = 0):\n",
    "    leafs = root.get_leaves()\n",
    "    for leaf in leafs:\n",
    "        if verbose > 2:\n",
    "                print(leaf.name)\n",
    "        if leaf.name in alphabet.keys():  \n",
    "            new_t = alphabet[leaf.name].copy(\"newick\")\n",
    "            leaf.add_child(new_t)\n",
    "            \n",
    "            #Add to the stack\n",
    "            for node in new_t.traverse(\"levelorder\"):\n",
    "                stack.append(node)\n",
    "            \n",
    "            if verbose > 1:\n",
    "                print(t)\n",
    "\n",
    "            # delete extra ''            \n",
    "            child = leaf.get_children()[0]\n",
    "            if child.name == '':\n",
    "                child.delete()\n",
    "    return root\n",
    "        "
   ]
  },
  {
   "cell_type": "markdown",
   "metadata": {},
   "source": [
    "## Transition Up"
   ]
  },
  {
   "cell_type": "code",
   "execution_count": 49,
   "metadata": {
    "collapsed": true
   },
   "outputs": [],
   "source": [
    "def transition_up(root, transitions):\n",
    "    for node in root.traverse(\"levelorder\"):\n",
    "#         if node.name == '': \n",
    "#             print('deleting:'+node.name)\n",
    "#             node.delete(prevent_nondicotomic=True)\n",
    "            stack.append(node)\n",
    "            transitioned = False\n",
    "            try:\n",
    "                prev = node.get_ancestors()\n",
    "                prev = prev[0]       \n",
    "                node.name = transitions['-'.join([prev.name, node.name])] \n",
    "                transitioned = True\n",
    "            except:pass       \n",
    "            if not transitioned:\n",
    "                try:node.name = transitions[node.name]\n",
    "                except:pass\n",
    "    return root\n"
   ]
  },
  {
   "cell_type": "markdown",
   "metadata": {},
   "source": [
    "## Transition Down"
   ]
  },
  {
   "cell_type": "code",
   "execution_count": null,
   "metadata": {
    "collapsed": true
   },
   "outputs": [],
   "source": [
    "def transition_down(root, transitions):\n",
    "    while (len(stack) > 0)\n",
    "        node = stack.pop()\n",
    "        for node_transitions in transitions[node.name]:\n",
    "            for child in node.get_children():\n",
    "                if child.name in node_transitions:\n",
    "                    node.name = node_transitions[child.name]\n",
    "            else:\n",
    "                continue\n",
    "            break\n",
    "        "
   ]
  },
  {
   "cell_type": "markdown",
   "metadata": {},
   "source": [
    "## Step"
   ]
  },
  {
   "cell_type": "code",
   "execution_count": null,
   "metadata": {
    "collapsed": true
   },
   "outputs": [],
   "source": []
  },
  {
   "cell_type": "markdown",
   "metadata": {},
   "source": [
    "### Other Functions "
   ]
  },
  {
   "cell_type": "code",
   "execution_count": 6,
   "metadata": {
    "collapsed": true
   },
   "outputs": [],
   "source": [
    "def countLayers(root):\n",
    "    \"counts how many nodes per layer\"\n",
    "    counts = {}\n",
    "    for node in root.traverse(\"preorder\"):\n",
    "        depth = node.get_distance(root)\n",
    "        if depth in counts.keys():\n",
    "            counts[depth] += 1\n",
    "        else:\n",
    "            counts[depth] = 1\n",
    "    return counts\n",
    "\n",
    "def countNodes(root):\n",
    "    \"counts how many nodes per layer\"\n",
    "    counts = {}\n",
    "    for node in root.traverse(\"preorder\"):\n",
    "        name = node.name\n",
    "        if name in counts.keys():\n",
    "            counts[name] += 1\n",
    "        else:\n",
    "            counts[name] = 1\n",
    "    return counts\n",
    "\n",
    "def countNodesPerLayer(root, name):\n",
    "    \"counts how many nodes per layer with a given name\"\n",
    "    counts = {}\n",
    "    for node in root.traverse(\"preorder\"):\n",
    "        if node.name == name:\n",
    "            depth = node.get_distance(root)\n",
    "            if depth in counts.keys():\n",
    "                counts[depth] += 1\n",
    "            else:\n",
    "                counts[depth] = 1\n",
    "    return counts\n",
    "\n",
    "def find_first_name(root, name):\n",
    "    \"Finds nodes with a given number of leaves\"\n",
    "    for n in root.traverse():\n",
    "        if n.name == name:\n",
    "            return n\n",
    "    return None\n",
    "\n",
    "def list2tree(node_list):  \n",
    "    t = Tree()\n",
    "    prev = t.add_child(name=node_list[0])\n",
    "    for node_name in node_list[1:]:\n",
    "        prev = prev.add_child(name=node_name)\n",
    "    return t\n",
    "\n",
    "def horzTree(name, num):\n",
    "    t = Tree()\n",
    "    for i in range(num):\n",
    "        t.add_child(name = name)\n",
    "    return t\n",
    "    "
   ]
  },
  {
   "cell_type": "code",
   "execution_count": 7,
   "metadata": {},
   "outputs": [
    {
     "name": "stdout",
     "output_type": "stream",
     "text": [
      "\n",
      "-- /- /- /- /-4\n"
     ]
    }
   ],
   "source": [
    "a = list2tree(['1','2','3','4'])\n",
    "print(a)"
   ]
  },
  {
   "cell_type": "code",
   "execution_count": 51,
   "metadata": {},
   "outputs": [
    {
     "data": {
      "text/plain": [
       "[Tree node 'S2' (0x11c9315d)]"
      ]
     },
     "execution_count": 51,
     "metadata": {},
     "output_type": "execute_result"
    }
   ],
   "source": [
    "a.get_children()"
   ]
  },
  {
   "cell_type": "code",
   "execution_count": 8,
   "metadata": {},
   "outputs": [
    {
     "name": "stdout",
     "output_type": "stream",
     "text": [
      "\n",
      "   /-1\n",
      "  |\n",
      "  |--1\n",
      "  |\n",
      "  |--1\n",
      "--|\n",
      "  |--1\n",
      "  |\n",
      "  |--1\n",
      "  |\n",
      "   \\-1\n"
     ]
    }
   ],
   "source": [
    "a = horzTree('1',6)\n",
    "print(a)"
   ]
  },
  {
   "cell_type": "markdown",
   "metadata": {},
   "source": [
    "## Fibonacci"
   ]
  },
  {
   "cell_type": "code",
   "execution_count": 12,
   "metadata": {},
   "outputs": [
    {
     "name": "stdout",
     "output_type": "stream",
     "text": [
      "\n",
      "   /-A\n",
      "--|\n",
      "   \\- /-A\n"
     ]
    }
   ],
   "source": [
    "# Fibonacci\n",
    "alphabet = {}\n",
    "transitions = {}\n",
    "#t.unroot()\n",
    "alphabet['A'] = Tree('(A,(A));')\n",
    "print alphabet['A']\n"
   ]
  },
  {
   "cell_type": "code",
   "execution_count": 13,
   "metadata": {},
   "outputs": [
    {
     "data": {
      "image/png": "[encoded data removed]",
      "text/plain": [
       "<IPython.core.display.Image object>"
      ]
     },
     "execution_count": 13,
     "metadata": {},
     "output_type": "execute_result"
    }
   ],
   "source": [
    "root = Tree('(A);')\n",
    "\n",
    "\n",
    "def my_layout(node):\n",
    "    \n",
    "    nstyle = NodeStyle()\n",
    "    nstyle[\"size\"] = 10\n",
    "    nstyle[\"fgcolor\"] = \"FireBrick\"\n",
    "    node.set_style(nstyle)\n",
    "\n",
    "ts = TreeStyle()\n",
    "ts.show_leaf_name = False\n",
    "ts.layout_fn = my_layout    \n",
    "\n",
    "root.render(\"%%inline\",tree_style = ts) "
   ]
  },
  {
   "cell_type": "code",
   "execution_count": 15,
   "metadata": {},
   "outputs": [
    {
     "data": {
      "image/png": "[encoded data removed]",
      "text/plain": [
       "<IPython.core.display.Image object>"
      ]
     },
     "execution_count": 15,
     "metadata": {},
     "output_type": "execute_result"
    }
   ],
   "source": [
    "grow(root,alphabet)\n",
    "transition(root,transitions)\n",
    "root.render(\"%%inline\",tree_style = ts) "
   ]
  },
  {
   "cell_type": "code",
   "execution_count": 1018,
   "metadata": {},
   "outputs": [
    {
     "data": {
      "text/plain": [
       "{0.0: 1,\n",
       " 1.0: 1,\n",
       " 2.0: 2,\n",
       " 3.0: 3,\n",
       " 4.0: 5,\n",
       " 5.0: 8,\n",
       " 6.0: 13,\n",
       " 7.0: 21,\n",
       " 8.0: 34,\n",
       " 9.0: 55,\n",
       " 10.0: 89,\n",
       " 11.0: 142,\n",
       " 12.0: 212,\n",
       " 13.0: 273,\n",
       " 14.0: 281,\n",
       " 15.0: 218,\n",
       " 16.0: 121,\n",
       " 17.0: 45,\n",
       " 18.0: 10,\n",
       " 19.0: 1}"
      ]
     },
     "execution_count": 1018,
     "metadata": {},
     "output_type": "execute_result"
    }
   ],
   "source": [
    "countLayers(root)"
   ]
  },
  {
   "cell_type": "markdown",
   "metadata": {},
   "source": [
    "## Multiply"
   ]
  },
  {
   "cell_type": "code",
   "execution_count": 16,
   "metadata": {},
   "outputs": [
    {
     "data": {
      "image/png": "[encoded data removed]",
      "text/plain": [
       "<IPython.core.display.Image object>"
      ]
     },
     "execution_count": 16,
     "metadata": {},
     "output_type": "execute_result"
    }
   ],
   "source": [
    "# Calculate A * B\n",
    "A = 5\n",
    "B = 3\n",
    "\n",
    "alphabet = {}\n",
    "alphabet['1st'] = horzTree('1',A)\n",
    "alphabet['2nd'] = horzTree('1',B)\n",
    "\n",
    "#Transitions\n",
    "transitions = {}\n",
    "transitions['1st-1'] = '2nd'\n",
    "\n",
    "root = Tree('(1st);')\n",
    "\n",
    "root.render(\"%%inline\",tree_style = ts) "
   ]
  },
  {
   "cell_type": "code",
   "execution_count": 20,
   "metadata": {},
   "outputs": [
    {
     "data": {
      "image/png": "[encoded data removed]",
      "text/plain": [
       "<IPython.core.display.Image object>"
      ]
     },
     "execution_count": 20,
     "metadata": {},
     "output_type": "execute_result"
    }
   ],
   "source": [
    "grow(root,alphabet)\n",
    "transition(root,transitions)\n",
    "root.render(\"%%inline\",tree_style = ts) "
   ]
  },
  {
   "cell_type": "code",
   "execution_count": 21,
   "metadata": {},
   "outputs": [
    {
     "name": "stdout",
     "output_type": "stream",
     "text": [
      "5 * 3 = 15\n"
     ]
    }
   ],
   "source": [
    "L = countLayers(root)\n",
    "print('%d * %d = %d' %(A,B,L[3]))"
   ]
  },
  {
   "cell_type": "markdown",
   "metadata": {},
   "source": [
    "# Subtract"
   ]
  },
  {
   "cell_type": "code",
   "execution_count": 23,
   "metadata": {},
   "outputs": [
    {
     "data": {
      "image/png": "[encoded data removed]",
      "text/plain": [
       "<IPython.core.display.Image object>"
      ]
     },
     "execution_count": 23,
     "metadata": {},
     "output_type": "execute_result"
    }
   ],
   "source": [
    "# Calculate A - B\n",
    "A = 5\n",
    "B = 2\n",
    "\n",
    "alphabet = {}\n",
    "\n",
    "t1 = Tree()\n",
    "prev = t1.add_child(name=\"s1\")\n",
    "for i in range(B):\n",
    "    prev = prev.add_child(name=\"1\")\n",
    "prev = prev.add_child(name=\"e1\")\n",
    "\n",
    "\n",
    "alphabet['s1'] = t1\n",
    "\n",
    "t2 = Tree()\n",
    "prev = t2.add_child(name=\"s2\")\n",
    "for i in range(A):\n",
    "    prev = prev.add_child(name=\"1\")\n",
    "prev = prev.add_child(name=\"e2\")\n",
    "\n",
    "alphabet['e1'] = t2\n",
    "\n",
    "#Transitions\n",
    "transitions = {}\n",
    "transitions['s1'] = 's*'\n",
    "transitions['s*'] = 's2'\n",
    "transitions['s2-1'] = '2'\n",
    "transitions['2'] = '3'\n",
    "transitions['3-1'] = '2'\n",
    "\n",
    "transitions['3-s2'] = 'D'\n",
    "transitions['D-3'] = 'D'\n",
    "transitions['D-2'] = 'D'\n",
    "\n",
    "\n",
    "root = Tree()\n",
    "root.format = 100\n",
    "a = root.add_child(name=\"s1\")\n",
    "\n",
    "\n",
    "def my_layout(node):\n",
    "        F = TextFace(node.name, tight_text=True)\n",
    "        add_face_to_node(F, node, column=0, position=\"branch-right\")\n",
    "\n",
    "ts = TreeStyle()\n",
    "ts.show_leaf_name = False\n",
    "ts.layout_fn = my_layout\n",
    "root.render(\"%%inline\",tree_style = ts) "
   ]
  },
  {
   "cell_type": "code",
   "execution_count": 32,
   "metadata": {},
   "outputs": [
    {
     "data": {
      "image/png": "[encoded data removed]",
      "text/plain": [
       "<IPython.core.display.Image object>"
      ]
     },
     "execution_count": 32,
     "metadata": {},
     "output_type": "execute_result"
    }
   ],
   "source": [
    "#Run\n",
    "root = grow(root,alphabet)\n",
    "transition(root,transitions)\n",
    "root.render(\"%%inline\",tree_style = ts) "
   ]
  },
  {
   "cell_type": "code",
   "execution_count": 33,
   "metadata": {},
   "outputs": [
    {
     "name": "stdout",
     "output_type": "stream",
     "text": [
      "5 - 2 = 3\n"
     ]
    },
    {
     "data": {
      "image/png": "[encoded data removed]",
      "text/plain": [
       "<IPython.core.display.Image object>"
      ]
     },
     "execution_count": 33,
     "metadata": {},
     "output_type": "execute_result"
    }
   ],
   "source": [
    "# Display ans\n",
    "ans = find_first_name(root,'1')\n",
    "print('%d - %d = %d' %(A,B,countNodes(root)['1']))\n",
    "ans.render(\"%%inline\",tree_style = ts) \n"
   ]
  },
  {
   "cell_type": "markdown",
   "metadata": {},
   "source": [
    "# Exponentiation"
   ]
  },
  {
   "cell_type": "code",
   "execution_count": 34,
   "metadata": {},
   "outputs": [
    {
     "data": {
      "image/png": "[encoded data removed]",
      "text/plain": [
       "<IPython.core.display.Image object>"
      ]
     },
     "execution_count": 34,
     "metadata": {},
     "output_type": "execute_result"
    }
   ],
   "source": [
    "# Calculate A^B\n",
    "A = 3\n",
    "B = 5\n",
    "\n",
    "alphabet = {}\n",
    "\n",
    "tB = Tree()\n",
    "prev = tB.add_child(name=\"B\")\n",
    "for i in range(B):\n",
    "    prev = prev.add_child(name=\"1\")\n",
    "prev = prev.add_child(name=\"eB\")\n",
    "\n",
    "alphabet['B'] = tB\n",
    "alphabet['eB'] = list2tree(['eB','1'])\n",
    "alphabet['1'] = horzTree('1',A)\n",
    "\n",
    "\n",
    "#Transitions\n",
    "transitions = {}\n",
    "transitions['S0-B'] = 'S1'\n",
    "transitions['S1'] = 'S2'\n",
    "transitions['S2-B'] = 'S1'\n",
    "\n",
    "transitions['S2-1'] = '2'\n",
    "transitions['2'] = '3'\n",
    "transitions['3-1'] = '2'\n",
    "\n",
    "transitions['2-eB'] = 'D'\n",
    "transitions['D-1'] = 'D'\n",
    "\n",
    "\n",
    "root = Tree()\n",
    "root.format = 100\n",
    "a = root.add_child(name=\"S0\")\n",
    "b = a.add_child(name=\"B\")\n",
    "\n",
    "\n",
    "\n",
    "def my_layout(node):\n",
    "        F = TextFace(node.name, tight_text=True)\n",
    "        add_face_to_node(F, node, column=0, position=\"branch-right\")\n",
    "\n",
    "ts = TreeStyle()\n",
    "ts.show_leaf_name = False\n",
    "ts.layout_fn = my_layout\n",
    "root.render(\"%%inline\",tree_style = ts) "
   ]
  },
  {
   "cell_type": "code",
   "execution_count": 44,
   "metadata": {},
   "outputs": [
    {
     "data": {
      "image/png": "[encoded data removed]",
      "text/plain": [
       "<IPython.core.display.Image object>"
      ]
     },
     "execution_count": 44,
     "metadata": {},
     "output_type": "execute_result"
    }
   ],
   "source": [
    "#Run\n",
    "root = grow(root,alphabet)\n",
    "transition(root,transitions)\n",
    "root.render(\"%%inline\",tree_style = ts) "
   ]
  },
  {
   "cell_type": "code",
   "execution_count": 45,
   "metadata": {},
   "outputs": [
    {
     "name": "stdout",
     "output_type": "stream",
     "text": [
      "3 ^ 5 = 81\n"
     ]
    }
   ],
   "source": [
    "# Print Ans\n",
    "my_dict = countLayers(root)\n",
    "print('%d ^ %d = %d' %(A,B,my_dict[my_dict.keys()[-1]]))\n"
   ]
  },
  {
   "cell_type": "markdown",
   "metadata": {},
   "source": [
    "# Cantor"
   ]
  },
  {
   "cell_type": "code",
   "execution_count": 1066,
   "metadata": {},
   "outputs": [
    {
     "data": {
      "image/png": "[encoded data removed]",
      "text/plain": [
       "<IPython.core.display.Image object>"
      ]
     },
     "execution_count": 1066,
     "metadata": {},
     "output_type": "execute_result"
    }
   ],
   "source": [
    "# Cantor Set\n",
    "alphabet['1'] = Tree('(1,0,1);')\n",
    "alphabet['0'] = Tree('(0,0,0);')\n",
    "\n",
    "\n",
    "root = Tree()\n",
    "root.format = 100\n",
    "a = root.add_child(name=\"1\")\n",
    "\n",
    "def my_layout(node):\n",
    "    \n",
    "    nstyle = NodeStyle()\n",
    "    nstyle[\"size\"] = 5\n",
    "    if node.name == '1':\n",
    "        nstyle[\"fgcolor\"] = \"FireBrick\"\n",
    "    else:\n",
    "        nstyle[\"fgcolor\"] = \"RoyalBlue\"\n",
    "    node.set_style(nstyle)\n",
    "\n",
    "ts = TreeStyle()\n",
    "ts.show_leaf_name = False\n",
    "ts.layout_fn = my_layout\n",
    "\n",
    "root.render(\"%%inline\",tree_style = ts) \n"
   ]
  },
  {
   "cell_type": "code",
   "execution_count": 1071,
   "metadata": {},
   "outputs": [
    {
     "data": {
      "image/png": "[encoded data removed]",
      "text/plain": [
       "<IPython.core.display.Image object>"
      ]
     },
     "execution_count": 1071,
     "metadata": {},
     "output_type": "execute_result"
    }
   ],
   "source": [
    "#t1 = Tree('(A,(A));')\n",
    "root = grow(root,alphabet)\n",
    "\n",
    "root.render(\"%%inline\",tree_style = ts) \n",
    "#print(t)\n"
   ]
  },
  {
   "cell_type": "code",
   "execution_count": 1072,
   "metadata": {},
   "outputs": [
    {
     "name": "stdout",
     "output_type": "stream",
     "text": [
      "{1.0: 1, 2.0: 2, 3.0: 4, 4.0: 8, 5.0: 16, 6.0: 32}\n",
      "{0.0: 1, 1.0: 1, 2.0: 3, 3.0: 9, 4.0: 27, 5.0: 81, 6.0: 243}\n"
     ]
    }
   ],
   "source": [
    "print(countNodesPerLayer(root,'1'))\n",
    "print(countLayers(root))"
   ]
  }
 ],
 "metadata": {
  "anaconda-cloud": {},
  "kernelspec": {
   "display_name": "Python [conda env:py2conda]",
   "language": "python",
   "name": "conda-env-py2conda-py"
  },
  "language_info": {
   "codemirror_mode": {
    "name": "ipython",
    "version": 2
   },
   "file_extension": ".py",
   "mimetype": "text/x-python",
   "name": "python",
   "nbconvert_exporter": "python",
   "pygments_lexer": "ipython2",
   "version": "2.7.13"
  }
 },
 "nbformat": 4,
 "nbformat_minor": 2
}
